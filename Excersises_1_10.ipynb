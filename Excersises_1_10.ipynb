{
  "nbformat": 4,
  "nbformat_minor": 0,
  "metadata": {
    "colab": {
      "provenance": []
    },
    "kernelspec": {
      "name": "python3",
      "display_name": "Python 3"
    },
    "language_info": {
      "name": "python"
    }
  },
  "cells": [
    {
      "cell_type": "code",
      "execution_count": null,
      "metadata": {
        "id": "Ip9WLtyoPM0b"
      },
      "outputs": [],
      "source": [
        "# 01\n",
        "# --- Stock validation ----\n",
        "stock = int(input('How many items do you have? '))\n",
        "if stock >= 100 and stock <= 1000:\n",
        "  print('Stock updated')\n",
        "else:\n",
        "  print('The stock have to be between 100 and 1,000 items')"
      ]
    },
    {
      "cell_type": "code",
      "source": [
        "# 02\n",
        "# --- The greatest between three numbers ---\n",
        "a = float(input('Enter a number: '))\n",
        "b = float(input('Enter b number: '))\n",
        "c = float(input('Enter c number: '))\n",
        "\n",
        "if a > b:\n",
        "  number = a\n",
        "  print(a)\n",
        "elif b > c:\n",
        "  number = b\n",
        "  print(b)\n",
        "else:\n",
        "  number = c\n",
        "  print(c)"
      ],
      "metadata": {
        "id": "pZ5rCNBGPVmt"
      },
      "execution_count": null,
      "outputs": []
    },
    {
      "cell_type": "code",
      "source": [
        "# 03\n",
        "# --- Even and odd number ---\n",
        "number = int(input('Enter a number: '))\n",
        "if number%2 == 0:\n",
        "  print('Even')\n",
        "else:\n",
        "    print('Odd')"
      ],
      "metadata": {
        "id": "si1nrwH5PXmi"
      },
      "execution_count": null,
      "outputs": []
    },
    {
      "cell_type": "code",
      "source": [
        "# 04\n",
        "# --- Number clasification ---\n",
        "  number = float(input('Enter a number: '))\n",
        "  if number == 0:\n",
        "    print('The number is 0')\n",
        "  elif number >= 1:\n",
        "    print('Positive')\n",
        "  elif number <= -1:\n",
        "    print('Negative')"
      ],
      "metadata": {
        "id": "A3N7Nqg3PZZJ"
      },
      "execution_count": null,
      "outputs": []
    },
    {
      "cell_type": "code",
      "source": [
        "# 05\n",
        "# if\n",
        "# --- Guess a random number ---\n",
        "import random\n",
        "secret_number = random.randint(1, 100)\n",
        "correct = False\n",
        "\n",
        "while correct == False:\n",
        "  print('\\nGuess the number')\n",
        "  user_number = int(input('Enter a number: '))\n",
        "  if secret_number == user_number:\n",
        "    correct = True\n",
        "    print('You guessed it!\\n')\n",
        "  elif secret_number > user_number:\n",
        "    print('The number is higher\\n')\n",
        "  elif secret_number < user_number:\n",
        "    print('The number is lower\\n')"
      ],
      "metadata": {
        "id": "dHwfnw-3PcJM"
      },
      "execution_count": null,
      "outputs": []
    },
    {
      "cell_type": "code",
      "source": [
        "# 06\n",
        "# if\n",
        "# --- IMC calculator ---\n",
        "print('IMC Calculator\\n')\n",
        "weight = float(input('Enter your weight (kg): '))\n",
        "height = float(input('Enter your height (m): '))\n",
        "imc = weight / (height * height)\n",
        "\n",
        "if imc <= 18.5:\n",
        "  print('Under weight')\n",
        "elif 18.5 <= imc < 25:\n",
        "  print('Healthy weight')\n",
        "elif 25 <= imc < 30:\n",
        "  print('Over weight')\n",
        "elif imc >= 30:\n",
        "  print('Obesity')"
      ],
      "metadata": {
        "id": "OwtBIiy9PduM"
      },
      "execution_count": null,
      "outputs": []
    },
    {
      "cell_type": "code",
      "source": [
        "# 07\n",
        "# if\n",
        "# --- Grades ---\n",
        "num1 =float(input('Grade: '))\n",
        "if num1 >= 90 and num1 <= 100:\n",
        "  print('Grade A')\n",
        "elif num1 >= 70 and num1 < 90:\n",
        "  print('Grade B')\n",
        "elif num1 >= 60 and num1 < 70:\n",
        "  print('Grade C')"
      ],
      "metadata": {
        "id": "F3ZX0_EePh5p"
      },
      "execution_count": null,
      "outputs": []
    },
    {
      "cell_type": "code",
      "source": [
        "# 08\n",
        "# if\n",
        "# --- Age ---\n",
        "age = int(input('Age: '))\n",
        "if age < 18:\n",
        "  print('Youth')\n",
        "elif age >= 18 and age < 65:\n",
        "  print('Adult')\n",
        "elif age >= 65:\n",
        "  print('Old')"
      ],
      "metadata": {
        "id": "rfqhXoRgPm1h"
      },
      "execution_count": null,
      "outputs": []
    },
    {
      "cell_type": "code",
      "source": [
        "#09\n",
        "'''\n",
        "Prompt:\n",
        "**Problem: Sum of Even Numbers**\n",
        "Write a program that calculates the sum of all even numbers within a given range. The program should prompt the user to input two integers,\n",
        "a starting number and an ending number, and then calculate the sum of all even numbers in that range, including the starting number and excluding the ending number.\n",
        "For example, if the user enters 1 as the starting number and 10 as the ending number, the program should calculate the sum of 2 + 4 + 6 + 8, which is equal to 20.\n",
        "'''\n",
        "start_num = int(input('Start number: '))\n",
        "end_num = int(input('End number: '))\n",
        "list_e = list(range(start_num, end_num))\n",
        "\n",
        "suma = 0\n",
        "for num in list_e:\n",
        "  if num%2 == 0:\n",
        "    print(f'{suma} + {num}')\n",
        "    suma = suma + num\n",
        "    print(suma)\n",
        "\n",
        "print('suma de ')\n",
        "print(suma)"
      ],
      "metadata": {
        "id": "c_o0_EEFPoVW"
      },
      "execution_count": null,
      "outputs": []
    },
    {
      "cell_type": "code",
      "source": [
        "# 10\n",
        "'''\n",
        "Prompt:\n",
        "**Problem: Calculate the factorial of a number**\n",
        "Write a program that prompts the user to enter an integer and then calculates the factorial of that number using a for loop.\n",
        "The factorial of an integer n is defined as the product of all positive integers from 1 to n.\n",
        "For example, if the user enters 5, the program should calculate 5 factorial (5!) which is equal to 5 x 4 x 3 x 2 x 1 = 120.\n",
        "'''\n",
        "\n",
        "num_factorial = int(input('Give me a number: '))\n",
        "list_factorial = list(range(1,num_factorial))\n",
        "\n",
        "total_factorial = num_factorial\n",
        "for element in list_factorial:\n",
        "  total_factorial = total_factorial * element\n",
        "\n",
        "print('Total is ', total_factorial)"
      ],
      "metadata": {
        "id": "0VKFiInwPrNN"
      },
      "execution_count": null,
      "outputs": []
    }
  ]
}